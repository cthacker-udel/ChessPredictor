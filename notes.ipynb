{
 "cells": [
  {
   "cell_type": "markdown",
   "source": [
    "## Logs\n",
    "\n",
    "12/15\n",
    "- This is my first time implementing the alpha-beta pruning algorithm to compute the preferred score among each chess move the player can make. The question arises though. For each piece, we have n moves we can make with that piece, n standing for it's moveset.  How we determine the value of n, is if the moveset is not infinite, we can just set n to the length of the moveset array. If it is infinite however, then we can set the length equal to it's position on the board - the height, or width, or diagonal distance from itself to all corners. This will involve some calculations however, but to abstract it. We can say that each chess piece has n moves, and we have k pieces, therefore the maximum amount of potential moves we can make is n*k. To evaluate all of those moves according to the minimax algorithm, we need to simulate the user making that move, and then compare it to all potential opponent moves they can make in response to that move, if that move results in the opponent taking the piece, we give it a value of -infinity, because we call that a \"win\" for the opponent, although they are not actually winning the game, the objective is to capture pieces. So calling taking a piece a \"win\" is not losing sense of the definition."
   ],
   "metadata": {
    "collapsed": false
   }
  },
  {
   "cell_type": "markdown",
   "source": [
    "## Pending tasks\n",
    "\n",
    "Task List:\n",
    "12/15: Implement a board interface for the pieces to be added to. (Done)\n",
    " - (Optional) begin implementation of a moving interface, which allows the pieces to move along the board.\n",
    "  - (Optional) Add implementation of players, to start working with teams, since there's only two it should not be overly complicated (I hope)"
   ],
   "metadata": {
    "collapsed": false
   }
  },
  {
   "cell_type": "code",
   "execution_count": null,
   "outputs": [],
   "source": [],
   "metadata": {
    "collapsed": false
   }
  }
 ],
 "metadata": {
  "kernelspec": {
   "display_name": "Python 3",
   "language": "python",
   "name": "python3"
  },
  "language_info": {
   "codemirror_mode": {
    "name": "ipython",
    "version": 2
   },
   "file_extension": ".py",
   "mimetype": "text/x-python",
   "name": "python",
   "nbconvert_exporter": "python",
   "pygments_lexer": "ipython2",
   "version": "2.7.6"
  }
 },
 "nbformat": 4,
 "nbformat_minor": 0
}
